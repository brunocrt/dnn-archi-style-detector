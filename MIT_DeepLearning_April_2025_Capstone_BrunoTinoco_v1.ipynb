{
  "nbformat": 4,
  "nbformat_minor": 0,
  "metadata": {
    "colab": {
      "provenance": [],
      "gpuType": "T4",
      "authorship_tag": "ABX9TyO4Wh2YNNUcuGPcEmzGBVFo",
      "include_colab_link": true
    },
    "kernelspec": {
      "name": "python3",
      "display_name": "Python 3"
    },
    "language_info": {
      "name": "python"
    },
    "accelerator": "GPU"
  },
  "cells": [
    {
      "cell_type": "markdown",
      "metadata": {
        "id": "view-in-github",
        "colab_type": "text"
      },
      "source": [
        "<a href=\"https://colab.research.google.com/github/brunocrt/dnn-archi-style-detector/blob/main/MIT_DeepLearning_April_2025_Capstone_BrunoTinoco_v1.ipynb\" target=\"_parent\"><img src=\"https://colab.research.google.com/assets/colab-badge.svg\" alt=\"Open In Colab\"/></a>"
      ]
    },
    {
      "cell_type": "code",
      "execution_count": null,
      "metadata": {
        "id": "C7xrwqkRTFTE"
      },
      "outputs": [],
      "source": []
    },
    {
      "cell_type": "markdown",
      "source": [
        "# MIT Mastering Neural Networks using Deep Learning\n",
        "Apr 19 2025\n",
        "\n",
        "This notebook is the code representing a project to detect software architectural patterns based on its source code.\n",
        "\n",
        "It is create to detect archictectural patterns on Java based projects from their repositories on Github.\n",
        "\n",
        "##Summary of steps\n",
        "\n",
        "- 1️⃣\tSelect repos to download\n",
        "- 2️⃣\tPre process .jav files (context + content)\n",
        "- 3️⃣\tEmbeddings generation for CodeBERT\n",
        "- 4️⃣\tTrain classifier (PyTorch)\n",
        "- 5️⃣\tTest and evaluation"
      ],
      "metadata": {
        "id": "7_ygsJ3hTHTd"
      }
    },
    {
      "cell_type": "markdown",
      "source": [
        "#1 Clone the Github repos\n",
        "\n",
        "- Filter only .java files\n",
        "- Extract paths and content of relevant files.\n",
        "- Store it on JSON file format to make it easier to generate the embeddings for CodeBERT."
      ],
      "metadata": {
        "id": "1DG3uftXT3Lq"
      }
    },
    {
      "cell_type": "code",
      "source": [
        "import os\n",
        "import subprocess\n",
        "import json\n",
        "import re\n",
        "import shutil\n",
        "from pathlib import Path\n",
        "\n",
        "# Lista de repositórios: (nome, URL, rótulo de arquitetura)\n",
        "REPOS = [\n",
        "    # Existing repositories\n",
        "    (\"spring-petclinic\", \"https://github.com/spring-projects/spring-petclinic.git\", \"layered\"),\n",
        "    (\"jhipster-sample\", \"https://github.com/jhipster/jhipster-sample-app.git\", \"microservices\"),\n",
        "    (\"java-design-patterns\", \"https://github.com/iluwatar/java-design-patterns.git\", \"monolith\"),\n",
        "    (\"quarkus-quickstarts\", \"https://github.com/quarkusio/quarkus-quickstarts.git\", \"microservices\"),\n",
        "    (\"hexagonal-architecture-java\", \"https://github.com/SvenWoltmann/hexagonal-architecture-java.git\", \"hexagonal\"),\n",
        "    (\"eventuate-tram-examples-java-spring-todo-list\", \"https://github.com/eventuate-tram/eventuate-tram-examples-java-spring-todo-list.git\", \"event-driven\"),\n",
        "    (\"spring-boot-mvc-architecture\", \"https://github.com/VANSHTRIVEDI/spring-boot-mvc-architecture.git\", \"layered\"),\n",
        "    (\"gs-rest-service\", \"https://github.com/spring-guides/gs-rest-service.git\", \"layered\"),\n",
        "    (\"clean-architecture-example\", \"https://github.com/mattia-battiston/clean-architecture-example.git\", \"clean\"),\n",
        "    (\"dddsample-core\", \"https://github.com/citerus/dddsample-core.git\", \"ddd\"),\n",
        "\n",
        "    # Additional repositories\n",
        "    (\"event-driven\", \"https://github.com/Uallessonivo/event-driven.git\", \"event-driven\"),\n",
        "    (\"event-driven-microservices-advanced\", \"https://github.com/Armando1514/Event-Driven-Microservices-Advanced.git\", \"event-driven\"),\n",
        "    (\"domain-driven-design-java-book\", \"https://github.com/o-s-expert/domain-driven-design-java-book.git\", \"ddd\"),\n",
        "    (\"library\", \"https://github.com/ddd-by-examples/library.git\", \"ddd\"),\n",
        "    (\"hexagonal-architecture\", \"https://github.com/anirban99/hexagonal-architecture.git\", \"hexagonal\"),\n",
        "    (\"spring-layered-architecture\", \"https://github.com/vj12354/spring-layered-architecture.git\", \"layered\"),\n",
        "    (\"layered-architecture\", \"https://github.com/PramithaMJ/layered-architecture.git\", \"layered\"),\n",
        "    (\"event-driven-architecture\", \"https://github.com/rkudryashov/event-driven-architecture.git\", \"event-driven\"),\n",
        "    (\"java-event-driven-example\", \"https://github.com/CafeinoDev/java-event-driven-example.git\", \"event-driven\"),\n",
        "    (\"ddd-example\", \"https://github.com/ketan-gote/ddd-example.git\", \"ddd\"),\n",
        "    (\"Designing-Hexagonal-Architecture\", \"https://github.com/CarlosCaride/Designing-Hexagonal-Architecture.git\", \"hexagonal\"),\n",
        "    (\"layered-architecture-java-spring-boot-mysql\", \"https://github.com/horozal/layered-architecture-java-spring-boot-mysql.git\", \"layered\")\n",
        "]\n",
        "\n",
        "DEST_DIR = \"repos\"\n",
        "OUTPUT_FILE = \"repos_java_dataset.json\"\n",
        "\n",
        "def clone_repo(name, url):\n",
        "    dest = os.path.join(DEST_DIR, name)\n",
        "    if not os.path.exists(dest):\n",
        "        print(f\"Cloning {name}...\")\n",
        "        subprocess.run([\"git\", \"clone\", \"--depth\", \"1\", url, dest], check=True)\n",
        "    return dest\n",
        "\n",
        "def remove_license_header(java_code: str) -> str:\n",
        "    match = re.search(r'^\\s*package\\s', java_code, re.MULTILINE)\n",
        "    if match:\n",
        "        return java_code[match.start():].lstrip()\n",
        "    else:\n",
        "        return java_code\n",
        "\n",
        "def extract_java_files(repo_path):\n",
        "    java_files = list(Path(repo_path).rglob(\"*.java\"))\n",
        "    file_contents = []\n",
        "    for f in java_files:\n",
        "        try:\n",
        "            content = f.read_text(encoding='utf-8', errors='ignore')\n",
        "            if len(content.strip()) > 20:\n",
        "                cleaned_content = remove_license_header(content)\n",
        "                file_contents.append({\n",
        "                    \"file_path\": str(f.relative_to(repo_path)),\n",
        "                    \"content\": cleaned_content\n",
        "                })\n",
        "        except Exception as e:\n",
        "            print(f\"Error reading {f}: {e}\")\n",
        "    return file_contents\n",
        "\n",
        "def delete_non_java_files(repo_path):\n",
        "    for root, dirs, files in os.walk(repo_path, topdown=False):\n",
        "        for name in files:\n",
        "            if not name.endswith(\".java\"):\n",
        "                try:\n",
        "                    os.remove(os.path.join(root, name))\n",
        "                except Exception:\n",
        "                    pass\n",
        "        for name in dirs:\n",
        "            dir_path = os.path.join(root, name)\n",
        "            try:\n",
        "                if not any(Path(dir_path).rglob(\"*.java\")):\n",
        "                    shutil.rmtree(dir_path)\n",
        "            except Exception:\n",
        "                pass\n",
        "\n",
        "def main():\n",
        "    os.makedirs(DEST_DIR, exist_ok=True)\n",
        "    dataset = []\n",
        "\n",
        "    for name, url, label in REPOS:\n",
        "        try:\n",
        "            repo_path = clone_repo(name, url)\n",
        "            delete_non_java_files(repo_path)\n",
        "            files = extract_java_files(repo_path)\n",
        "            dataset.append({\n",
        "                \"repo\": name,\n",
        "                \"architecture\": label,\n",
        "                \"files\": files\n",
        "            })\n",
        "            shutil.rmtree(repo_path)  # Cleanup after processing\n",
        "        except Exception as e:\n",
        "            print(f\"Error on repo {name}: {e}\")\n",
        "\n",
        "    with open(OUTPUT_FILE, \"w\", encoding=\"utf-8\") as f:\n",
        "        json.dump(dataset, f, indent=2, ensure_ascii=False)\n",
        "\n",
        "    print(f\"\\n✅ Dataset saved at: {OUTPUT_FILE}\")\n",
        "\n",
        "if __name__ == \"__main__\":\n",
        "    main()\n",
        "\n"
      ],
      "metadata": {
        "colab": {
          "base_uri": "https://localhost:8080/"
        },
        "id": "L2VWf1HDUSKW",
        "outputId": "505dd2c7-52f0-4f05-c3b3-0b92b1c50323"
      },
      "execution_count": null,
      "outputs": [
        {
          "output_type": "stream",
          "name": "stdout",
          "text": [
            "Cloning spring-petclinic...\n",
            "Cloning jhipster-sample...\n",
            "Cloning java-design-patterns...\n",
            "Cloning quarkus-quickstarts...\n",
            "Cloning hexagonal-architecture-java...\n",
            "Cloning eventuate-tram-examples-java-spring-todo-list...\n",
            "Cloning spring-boot-mvc-architecture...\n",
            "Cloning gs-rest-service...\n",
            "Cloning clean-architecture-example...\n",
            "Cloning dddsample-core...\n",
            "Cloning event-driven...\n",
            "Cloning event-driven-microservices-advanced...\n",
            "Cloning domain-driven-design-java-book...\n",
            "Cloning library...\n",
            "Cloning hexagonal-architecture...\n",
            "Cloning spring-layered-architecture...\n",
            "Cloning layered-architecture...\n",
            "Cloning event-driven-architecture...\n",
            "Cloning java-event-driven-example...\n",
            "Cloning ddd-example...\n",
            "Cloning Designing-Hexagonal-Architecture...\n",
            "Cloning layered-architecture-java-spring-boot-mysql...\n",
            "\n",
            "✅ Dataset saved at: repos_java_dataset.json\n"
          ]
        }
      ]
    },
    {
      "cell_type": "markdown",
      "source": [
        "Expected data structure for the dataset\n",
        "\n",
        "``` JSON\n",
        "[\n",
        "  {\n",
        "    \"repo\": \"spring-petclinic\",\n",
        "    \"architecture\": \"layered\",\n",
        "    \"files\": [\n",
        "      {\n",
        "        \"file_path\": \"src/main/java/org/springframework/OwnerController.java\",\n",
        "        \"content\": \"package org.springframework...\\npublic class OwnerController {...}\"\n",
        "      },\n",
        "      ...\n",
        "    ]\n",
        "  }\n",
        "]\n",
        "\n",
        "```\n",
        "\n"
      ],
      "metadata": {
        "id": "op63nfjtaea8"
      }
    },
    {
      "cell_type": "markdown",
      "source": [
        "##2 Pre Process files\n",
        "\n",
        "Transformamos os arquivos .java de cada repositório em exemplos de treino, extraindo:\n",
        "\n",
        "- Pacote (via regex)\n",
        "- Nome do arquivo\n",
        "- Detecção simples do tipo de classe (Controller, Service, Repository)"
      ],
      "metadata": {
        "id": "c28F5_v_cZxn"
      }
    },
    {
      "cell_type": "code",
      "source": [
        "import json\n",
        "import re\n",
        "\n",
        "def process_file(file_entry):\n",
        "    path = file_entry[\"file_path\"]\n",
        "    content = file_entry[\"content\"]\n",
        "\n",
        "    # Extração de tipo de classe (Controller, Service, etc.)\n",
        "    class_type = \"other\"\n",
        "    if \"controller\" in path.lower():\n",
        "        class_type = \"controller\"\n",
        "    elif \"service\" in path.lower():\n",
        "        class_type = \"service\"\n",
        "    elif \"repository\" in path.lower():\n",
        "        class_type = \"repository\"\n",
        "    elif \"model\" in path.lower():\n",
        "        class_type = \"model\"\n",
        "\n",
        "    # Extração do nome do pacote\n",
        "    match = re.search(r'package\\s+([\\w\\.]+);', content)\n",
        "    package_name = match.group(1) if match else \"\"\n",
        "\n",
        "    # Retorno: concatenação de contexto + conteúdo (truncado)\n",
        "    return f\"{package_name} {path} {class_type}\\n{content[:2048]}\"\n"
      ],
      "metadata": {
        "id": "sQHZgdPccr81"
      },
      "execution_count": null,
      "outputs": []
    },
    {
      "cell_type": "code",
      "source": [
        "def load_dataset(json_path):\n",
        "    data = []\n",
        "    with open(json_path, encoding='utf-8') as f:\n",
        "        repos = json.load(f)\n",
        "\n",
        "    for repo in repos:\n",
        "        label = repo[\"architecture\"]\n",
        "        for file in repo[\"files\"]:\n",
        "            processed = process_file(file)\n",
        "            data.append({\n",
        "                \"text\": processed,\n",
        "                \"label\": label\n",
        "            })\n",
        "    return data\n"
      ],
      "metadata": {
        "id": "_pU2wb4BdCCF"
      },
      "execution_count": null,
      "outputs": []
    },
    {
      "cell_type": "markdown",
      "source": [
        "##3 Generate Embeddings with CodeBERT + Tokenization"
      ],
      "metadata": {
        "id": "YYP65jZ6dQIJ"
      }
    },
    {
      "cell_type": "code",
      "source": [
        "import torch\n",
        "\n",
        "device = torch.device(\"cuda\" if torch.cuda.is_available() else \"cpu\")\n",
        "print(f\"Using device: {device}\")\n"
      ],
      "metadata": {
        "colab": {
          "base_uri": "https://localhost:8080/"
        },
        "id": "HRYlljmYmokv",
        "outputId": "478a9408-007e-437d-f19a-7d81e4106cf6"
      },
      "execution_count": null,
      "outputs": [
        {
          "output_type": "stream",
          "name": "stdout",
          "text": [
            "Using device: cuda\n"
          ]
        }
      ]
    },
    {
      "cell_type": "code",
      "source": [
        "#from transformers import RobertaTokenizer, RobertaModel\n",
        "from transformers import AutoModel, AutoTokenizer\n",
        "import torch\n",
        "\n",
        "# Load tokenizer and model\n",
        "tokenizer = AutoTokenizer.from_pretrained(\"microsoft/codebert-base\")\n",
        "codebert = AutoModel.from_pretrained(\"microsoft/codebert-base\").to(device)\n",
        "\n",
        "def generate_codebert_embedding(text: str):\n",
        "    tokens = tokenizer(text, return_tensors=\"pt\", padding=True, truncation=True, max_length=512)\n",
        "    tokens = {k: v.to(device) for k, v in tokens.items()}\n",
        "    with torch.no_grad():\n",
        "        outputs = codebert(**tokens)\n",
        "        embedding = outputs.last_hidden_state[:, 0, :]\n",
        "    return embedding.squeeze(0)\n",
        "\n",
        "def prepare_embeddings(data, label_map):\n",
        "    all_embeddings = []\n",
        "    all_labels = []\n",
        "    for sample in data:\n",
        "        emb = generate_codebert_embedding(sample[\"text\"])\n",
        "        all_embeddings.append(emb)\n",
        "        all_labels.append(torch.tensor(label_map[sample[\"label\"]], dtype=torch.long))\n",
        "    return torch.stack(all_embeddings), torch.stack(all_labels)"
      ],
      "metadata": {
        "id": "nSsENbvDdX5k"
      },
      "execution_count": null,
      "outputs": []
    },
    {
      "cell_type": "code",
      "source": [
        "import torch\n",
        "from torch.utils.data import Dataset\n",
        "\n",
        "# Pytorch Dataset\n",
        "class CodeTensorDataset(Dataset):\n",
        "    def __init__(self, embeddings, labels):\n",
        "        self.embeddings = embeddings\n",
        "        self.labels = labels\n",
        "\n",
        "    def __len__(self):\n",
        "        return len(self.embeddings)\n",
        "\n",
        "    def __getitem__(self, idx):\n",
        "        return self.embeddings[idx], self.labels[idx]\n"
      ],
      "metadata": {
        "id": "HsZBJ5R5eIjS"
      },
      "execution_count": null,
      "outputs": []
    },
    {
      "cell_type": "markdown",
      "source": [
        "## 4 Trainning"
      ],
      "metadata": {
        "id": "jPyvQdCSeSrs"
      }
    },
    {
      "cell_type": "code",
      "source": [
        "import torch.nn as nn\n",
        "from torch.utils.data import DataLoader, random_split\n",
        "\n",
        "# class SimpleClassifier(nn.Module):\n",
        "#     def __init__(self, input_size=768, num_classes=6):\n",
        "#         super().__init__()\n",
        "#         self.fc = nn.Sequential(\n",
        "#             nn.Linear(input_size, 128),\n",
        "#             nn.ReLU(),\n",
        "#             nn.Linear(128, num_classes)\n",
        "#         )\n",
        "\n",
        "#     def forward(self, x):\n",
        "#         return self.fc(x)\n",
        "\n",
        "class ArchitectureClassifier(nn.Module):\n",
        "    def __init__(self, input_dim=768, num_classes=7):\n",
        "        super().__init__()\n",
        "        self.linear = nn.Sequential(\n",
        "\n",
        "            ##nn.Linear(input_dim, 128),\n",
        "            ##nn.ReLU(),\n",
        "            ##nn.Linear(128, num_classes)\n",
        "\n",
        "            nn.Linear(768, 256),\n",
        "            nn.ReLU(),\n",
        "            nn.Dropout(0.3),\n",
        "            nn.Linear(256, 128),\n",
        "            nn.ReLU(),\n",
        "            nn.Dropout(0.2),\n",
        "            nn.Linear(128, num_classes)\n",
        "        )\n",
        "\n",
        "    def forward(self, x):\n",
        "        return self.linear(x)\n",
        "model = ArchitectureClassifier().to(device)"
      ],
      "metadata": {
        "id": "ZloYkBVWeW5e"
      },
      "execution_count": null,
      "outputs": []
    },
    {
      "cell_type": "code",
      "source": [
        "def train(model, dataloader, epochs=5):\n",
        "    criterion = nn.CrossEntropyLoss()\n",
        "    optimizer = torch.optim.Adam(model.parameters(), lr=1e-4)\n",
        "\n",
        "    for epoch in range(epochs):\n",
        "\n",
        "        model.train()\n",
        "        total_loss = 0\n",
        "\n",
        "        for X, y in dataloader:\n",
        "            X = X.to(device)\n",
        "            y = y.to(device)\n",
        "            optimizer.zero_grad()\n",
        "            preds = model(X)\n",
        "            loss = criterion(preds, y)\n",
        "            loss.backward()\n",
        "            optimizer.step()\n",
        "            total_loss += loss.item()\n",
        "\n",
        "        print(f\"Epoch {epoch+1}: Loss = {total_loss:.4f}\")\n"
      ],
      "metadata": {
        "id": "lIvTr8bDeY2O"
      },
      "execution_count": null,
      "outputs": []
    },
    {
      "cell_type": "markdown",
      "source": [
        "## 5 Testing and Evaluation"
      ],
      "metadata": {
        "id": "7nz1ZcxOehLS"
      }
    },
    {
      "cell_type": "code",
      "source": [
        "import matplotlib.pyplot as plt\n",
        "from sklearn.metrics import classification_report, confusion_matrix, ConfusionMatrixDisplay\n",
        "import seaborn as sns\n",
        "\n",
        "def evaluate(model, dataloader, label_map):\n",
        "    model.eval()\n",
        "    y_true = []\n",
        "    y_pred = []\n",
        "    with torch.no_grad():\n",
        "        for X, y in dataloader:\n",
        "            X = X.to(device)\n",
        "            y = y.to(device)\n",
        "            out = model(X)\n",
        "            preds = torch.argmax(out, dim=1)\n",
        "            y_true.extend(y.cpu().numpy())\n",
        "            y_pred.extend(preds.cpu().numpy())\n",
        "\n",
        "    acc = (torch.tensor(y_true) == torch.tensor(y_pred)).sum().item() / len(y_true)\n",
        "    print(f\"Acurácia: {acc:.2%}\\n\")\n",
        "\n",
        "    target_names = list(label_map.keys())\n",
        "    print(\"\\nRelatório de Classificação:\")\n",
        "    print(classification_report(y_true, y_pred, target_names=target_names))\n",
        "\n",
        "    cm = confusion_matrix(y_true, y_pred)\n",
        "    disp = ConfusionMatrixDisplay(confusion_matrix=cm, display_labels=target_names)\n",
        "    disp.plot(cmap=plt.cm.Blues, xticks_rotation=45)\n",
        "    plt.title(\"Matriz de Confusão\")\n",
        "    plt.tight_layout()\n",
        "    plt.show()"
      ],
      "metadata": {
        "id": "fzZhSnGqek9c"
      },
      "execution_count": null,
      "outputs": []
    },
    {
      "cell_type": "markdown",
      "source": [
        "## Pipeline Execution"
      ],
      "metadata": {
        "id": "jEf6mDbPeqBv"
      }
    },
    {
      "cell_type": "markdown",
      "source": [
        "## Load Dataset"
      ],
      "metadata": {
        "id": "QXlJK-s1wmI0"
      }
    },
    {
      "cell_type": "code",
      "source": [
        "data = load_dataset(\"repos_java_dataset.json\")\n",
        "unique_labels = list(set(d[\"label\"] for d in data))\n",
        "label_map = {label: idx for idx, label in enumerate(unique_labels)}\n",
        "\n",
        "embeddings, labels = prepare_embeddings(data, label_map)\n",
        "dataset = CodeTensorDataset(embeddings, labels)\n",
        "\n",
        "train_size = int(0.8 * len(dataset))\n",
        "val_size = len(dataset) - train_size\n",
        "train_ds, val_ds = random_split(dataset, [train_size, val_size])\n",
        "train_loader = DataLoader(train_ds, batch_size=8)\n",
        "val_loader = DataLoader(val_ds, batch_size=8)"
      ],
      "metadata": {
        "id": "z-InQcMaeuDM"
      },
      "execution_count": null,
      "outputs": []
    },
    {
      "cell_type": "markdown",
      "source": [
        "## Train the model"
      ],
      "metadata": {
        "id": "DODtU7tgwr4B"
      }
    },
    {
      "cell_type": "code",
      "source": [
        "model = ArchitectureClassifier(num_classes=len(label_map)).to(device)\n",
        "train(model, train_loader, epochs=10)\n"
      ],
      "metadata": {
        "colab": {
          "base_uri": "https://localhost:8080/"
        },
        "id": "xP4VXqodwcQD",
        "outputId": "1aa18526-a7f8-4fac-a2a6-d8eb238dcb7b"
      },
      "execution_count": null,
      "outputs": [
        {
          "output_type": "stream",
          "name": "stdout",
          "text": [
            "Epoch 1: Loss = 738.4430\n",
            "Epoch 2: Loss = 660.6884\n",
            "Epoch 3: Loss = 542.5755\n",
            "Epoch 4: Loss = 453.1965\n",
            "Epoch 5: Loss = 389.1277\n",
            "Epoch 6: Loss = 348.9977\n",
            "Epoch 7: Loss = 321.4242\n",
            "Epoch 8: Loss = 295.4136\n",
            "Epoch 9: Loss = 281.5424\n",
            "Epoch 10: Loss = 266.9647\n"
          ]
        }
      ]
    },
    {
      "cell_type": "markdown",
      "source": [
        "## Evaluate"
      ],
      "metadata": {
        "id": "KsOdTj5xwhYr"
      }
    },
    {
      "cell_type": "code",
      "source": [
        "evaluate(model, val_loader, label_map)"
      ],
      "metadata": {
        "colab": {
          "base_uri": "https://localhost:8080/",
          "height": 936
        },
        "id": "ctaZleNOwj2N",
        "outputId": "6c3b9fbc-8b79-42b5-cef9-715a79f8f56d"
      },
      "execution_count": null,
      "outputs": [
        {
          "output_type": "stream",
          "name": "stdout",
          "text": [
            "Acurácia: 83.26%\n",
            "\n",
            "\n",
            "Relatório de Classificação:\n",
            "               precision    recall  f1-score   support\n",
            "\n",
            "          ddd       0.55      0.15      0.24        78\n",
            "        clean       0.00      0.00      0.00        11\n",
            "     monolith       0.87      0.99      0.93       335\n",
            " event-driven       0.88      0.63      0.73        78\n",
            "microservices       0.75      0.90      0.81       193\n",
            "    hexagonal       0.87      0.95      0.91       219\n",
            "      layered       0.00      0.00      0.00        18\n",
            "\n",
            "     accuracy                           0.83       932\n",
            "    macro avg       0.56      0.52      0.52       932\n",
            " weighted avg       0.79      0.83      0.80       932\n",
            "\n"
          ]
        },
        {
          "output_type": "stream",
          "name": "stderr",
          "text": [
            "/usr/local/lib/python3.11/dist-packages/sklearn/metrics/_classification.py:1565: UndefinedMetricWarning: Precision is ill-defined and being set to 0.0 in labels with no predicted samples. Use `zero_division` parameter to control this behavior.\n",
            "  _warn_prf(average, modifier, f\"{metric.capitalize()} is\", len(result))\n",
            "/usr/local/lib/python3.11/dist-packages/sklearn/metrics/_classification.py:1565: UndefinedMetricWarning: Precision is ill-defined and being set to 0.0 in labels with no predicted samples. Use `zero_division` parameter to control this behavior.\n",
            "  _warn_prf(average, modifier, f\"{metric.capitalize()} is\", len(result))\n",
            "/usr/local/lib/python3.11/dist-packages/sklearn/metrics/_classification.py:1565: UndefinedMetricWarning: Precision is ill-defined and being set to 0.0 in labels with no predicted samples. Use `zero_division` parameter to control this behavior.\n",
            "  _warn_prf(average, modifier, f\"{metric.capitalize()} is\", len(result))\n"
          ]
        },
        {
          "output_type": "display_data",
          "data": {
            "text/plain": [
              "<Figure size 640x480 with 2 Axes>"
            ],
            "image/png": "[encoded data removed]"
          },
          "metadata": {}
        }
      ]
    }
  ]
}